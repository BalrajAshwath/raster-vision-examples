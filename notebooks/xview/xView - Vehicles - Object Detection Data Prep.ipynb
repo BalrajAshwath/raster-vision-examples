{
 "cells": [
  {
   "cell_type": "markdown",
   "metadata": {},
   "source": [
    "# xView Vehicle Object Detection Data Prep\n",
    "\n",
    "This notebook prepares data for training an object detection model on the xView dataset."
   ]
  },
  {
   "cell_type": "markdown",
   "metadata": {},
   "source": [
    "Set an S3 URI that you have write access to here:"
   ]
  },
  {
   "cell_type": "code",
   "execution_count": 10,
   "metadata": {},
   "outputs": [],
   "source": [
    "base_dir = \"s3://raster-vision-example\""
   ]
  },
  {
   "cell_type": "code",
   "execution_count": 2,
   "metadata": {
    "scrolled": true
   },
   "outputs": [
    {
     "name": "stdout",
     "output_type": "stream",
     "text": [
      "Root temporary directory cannot be used: None. Using root: /opt/data/tmp/\n",
      "Temporary directory is: /opt/data/tmp/tmp9yiypnow\n"
     ]
    }
   ],
   "source": [
    "import os\n",
    "import json\n",
    "import rastervision as rv\n",
    "import boto3\n",
    "import botocore\n",
    "import rasterio\n",
    "import random\n",
    "import copy\n",
    "from shapely.geometry import (Polygon, shape)"
   ]
  },
  {
   "cell_type": "code",
   "execution_count": 3,
   "metadata": {},
   "outputs": [
    {
     "name": "stdout",
     "output_type": "stream",
     "text": [
      "download: s3://raster-vision-xview-example/xView_train.geojson to ../../data/xview/labels/xView_train.geojson\n"
     ]
    }
   ],
   "source": [
    "label_path = '/opt/data/xview/labels/xView_train.geojson'\n",
    "if not os.path.exists(label_path):\n",
    "    !aws s3 cp s3://raster-vision-xview-example/xView_train.geojson $label_path"
   ]
  },
  {
   "cell_type": "markdown",
   "metadata": {},
   "source": [
    "### Filter out non vehicles"
   ]
  },
  {
   "cell_type": "code",
   "execution_count": 4,
   "metadata": {},
   "outputs": [],
   "source": [
    "label_js = None\n",
    "with open(label_path) as f:\n",
    "    label_js = json.loads(f.read())"
   ]
  },
  {
   "cell_type": "code",
   "execution_count": 5,
   "metadata": {},
   "outputs": [],
   "source": [
    "vehicle_types = [17, 18, 19, 20, 21, 23, 24, 25, 26, 27, 28, 29, 32, \n",
    "                 53, 54, 55, 56, 57, 59, 60, 61, 62, 63, 64, 65, 66]"
   ]
  },
  {
   "cell_type": "code",
   "execution_count": 6,
   "metadata": {},
   "outputs": [],
   "source": [
    "vehicle_features = []\n",
    "for f in label_js['features']:\n",
    "    if f['properties']['type_id'] in vehicle_types:\n",
    "        f['properties']['class_name'] = 'vehicle'\n",
    "        vehicle_features.append(f)\n",
    "label_js['features'] = vehicle_features"
   ]
  },
  {
   "cell_type": "markdown",
   "metadata": {},
   "source": [
    "### Find training and test images"
   ]
  },
  {
   "cell_type": "code",
   "execution_count": 7,
   "metadata": {},
   "outputs": [],
   "source": [
    "image_to_vehicle_counts = {}\n",
    "for f in label_js['features']:\n",
    "    image_id = f['properties']['image_id']\n",
    "    if image_id not in image_to_vehicle_counts.keys():\n",
    "        image_to_vehicle_counts[image_id] = 1\n",
    "    else:\n",
    "        image_to_vehicle_counts[image_id] += 1"
   ]
  },
  {
   "cell_type": "code",
   "execution_count": 8,
   "metadata": {},
   "outputs": [],
   "source": [
    "experiment_image_count = round(len(image_to_vehicle_counts.keys()) * 0.1)\n",
    "sorted_images_and_counts = sorted(image_to_vehicle_counts.items(), key=lambda x: x[1])\n",
    "selected_images_and_counts = sorted_images_and_counts[-experiment_image_count:]"
   ]
  },
  {
   "cell_type": "code",
   "execution_count": 9,
   "metadata": {},
   "outputs": [],
   "source": [
    "# Split training and validation\n",
    "ratio = 0.8\n",
    "training_sample_size = round(ratio * experiment_image_count)\n",
    "train_sample = random.sample(range(experiment_image_count), training_sample_size)\n",
    "\n",
    "train_images = []\n",
    "test_images = []"
   ]
  },
  {
   "cell_type": "code",
   "execution_count": 11,
   "metadata": {},
   "outputs": [],
   "source": [
    "for i in range(training_sample_size):\n",
    "    img = selected_images_and_counts[i][0]\n",
    "    img_uri = os.path.join(base_dir, 'train_images', img)\n",
    "    if i in train_sample:\n",
    "        train_images.append(img_uri)\n",
    "    else:\n",
    "        test_images.append(img_uri)                "
   ]
  },
  {
   "cell_type": "markdown",
   "metadata": {},
   "source": [
    "### Get individual geojson for each tiff"
   ]
  },
  {
   "cell_type": "code",
   "execution_count": 14,
   "metadata": {},
   "outputs": [],
   "source": [
    "processed_labels_dir = '/opt/data/xview/processed_labels/'"
   ]
  },
  {
   "cell_type": "code",
   "execution_count": 19,
   "metadata": {
    "scrolled": true
   },
   "outputs": [],
   "source": [
    "def subset_labels(tiff_list, processed_labels_dir):\n",
    "    def f(tiff_uri):\n",
    "        tiff_basename = os.path.basename(tiff_uri)\n",
    "        tiff_features = []\n",
    "        for l in label_js['features']:\n",
    "            image_id = l['properties']['image_id']\n",
    "            if image_id == tiff_basename:\n",
    "                tiff_features.append(l)\n",
    "        labels_subset = copy.deepcopy(label_js)\n",
    "        labels_subset['features'] = tiff_features\n",
    "        return labels_subset   \n",
    "    for i in train_images:\n",
    "        basename = os.path.splitext(os.path.basename(i))[0]\n",
    "        tiff_geojson = f(i)\n",
    "        with open(os.path.join(processed_labels_dir, '{}.geojson'.format(basename)), 'w') as file:\n",
    "            file.write(json.dumps(tiff_geojson, indent=4))\n",
    "            "
   ]
  },
  {
   "cell_type": "code",
   "execution_count": null,
   "metadata": {},
   "outputs": [],
   "source": [
    "subset_labels(train_images, processed_labels_dir)\n",
    "subset_labels(test_images, processed_labels_dir)"
   ]
  },
  {
   "cell_type": "code",
   "execution_count": null,
   "metadata": {},
   "outputs": [],
   "source": [
    "!ls $processed_labels_dir"
   ]
  }
 ],
 "metadata": {
  "kernelspec": {
   "display_name": "Python 3",
   "language": "python",
   "name": "python3"
  },
  "language_info": {
   "codemirror_mode": {
    "name": "ipython",
    "version": 3
   },
   "file_extension": ".py",
   "mimetype": "text/x-python",
   "name": "python",
   "nbconvert_exporter": "python",
   "pygments_lexer": "ipython3",
   "version": "3.5.2"
  }
 },
 "nbformat": 4,
 "nbformat_minor": 2
}
